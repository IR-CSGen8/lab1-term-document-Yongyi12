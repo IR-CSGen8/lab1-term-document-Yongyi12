{
 "cells": [
  {
   "cell_type": "code",
   "execution_count": 8,
   "id": "ca61a755",
   "metadata": {},
   "outputs": [
    {
     "data": {
      "text/html": [
       "<div>\n",
       "<style scoped>\n",
       "    .dataframe tbody tr th:only-of-type {\n",
       "        vertical-align: middle;\n",
       "    }\n",
       "\n",
       "    .dataframe tbody tr th {\n",
       "        vertical-align: top;\n",
       "    }\n",
       "\n",
       "    .dataframe thead th {\n",
       "        text-align: right;\n",
       "    }\n",
       "</style>\n",
       "<table border=\"1\" class=\"dataframe\">\n",
       "  <thead>\n",
       "    <tr style=\"text-align: right;\">\n",
       "      <th></th>\n",
       "      <th>0</th>\n",
       "      <th>1</th>\n",
       "    </tr>\n",
       "  </thead>\n",
       "  <tbody>\n",
       "    <tr>\n",
       "      <th>0</th>\n",
       "      <td>Document 1</td>\n",
       "      <td>This is the first document. It contains some w...</td>\n",
       "    </tr>\n",
       "    <tr>\n",
       "      <th>1</th>\n",
       "      <td>Document 2</td>\n",
       "      <td>The second document is a bit longer and has di...</td>\n",
       "    </tr>\n",
       "    <tr>\n",
       "      <th>2</th>\n",
       "      <td>Document 3</td>\n",
       "      <td>The third document is short. Short documents c...</td>\n",
       "    </tr>\n",
       "  </tbody>\n",
       "</table>\n",
       "</div>"
      ],
      "text/plain": [
       "            0                                                  1\n",
       "0  Document 1  This is the first document. It contains some w...\n",
       "1  Document 2  The second document is a bit longer and has di...\n",
       "2  Document 3  The third document is short. Short documents c..."
      ]
     },
     "execution_count": 8,
     "metadata": {},
     "output_type": "execute_result"
    }
   ],
   "source": [
    "import pandas as pd\n",
    "datas = pd.read_csv('tdoc.csv', header = None)\n",
    "\n",
    "datas"
   ]
  },
  {
   "cell_type": "code",
   "execution_count": 9,
   "id": "2fe7ba95",
   "metadata": {},
   "outputs": [
    {
     "name": "stdout",
     "output_type": "stream",
     "text": [
      "[0, 1]\n"
     ]
    }
   ],
   "source": [
    "# get the keys of the documents and store it in the list\n",
    "key_documents = list(datas.keys())\n",
    "\n",
    "# display the list of the key documents\n",
    "print(key_documents)\n",
    "#title = datas[0].tolist()\n",
    "#title\n",
    "#content = datas[1].tolist()\n",
    "#content"
   ]
  },
  {
   "cell_type": "code",
   "execution_count": 10,
   "id": "3b3dfaff",
   "metadata": {},
   "outputs": [
    {
     "name": "stdout",
     "output_type": "stream",
     "text": [
      "['This is the first document. It contains some words.', 'The second document is a bit longer and has different words.', 'The third document is short. Short documents can be concise.']\n"
     ]
    }
   ],
   "source": [
    "# Extract the content values and put them in a list\n",
    "document_content_list = list(datas[1])\n",
    "\n",
    "# Display the list of document content\n",
    "print(document_content_list)"
   ]
  },
  {
   "cell_type": "code",
   "execution_count": 11,
   "id": "13622a4b",
   "metadata": {},
   "outputs": [
    {
     "name": "stdout",
     "output_type": "stream",
     "text": [
      "['documents', 'document.', 'has', 'contains', 'be', 'the', 'Short', 'bit', 'second', 'It', 'a', 'concise.', 'short.', 'The', 'document', 'can', 'words.', 'This', 'some', 'is', 'different', 'third', 'and', 'longer', 'first']\n"
     ]
    }
   ],
   "source": [
    "# Gather the set of all unique terms from the list content of document and diplay the result\n",
    "unique_terms = set()\n",
    "\n",
    "# Iterate through each document content to extract unique terms\n",
    "for content in document_content_list:\n",
    "    terms = content.split()\n",
    "    unique_terms.update(terms)\n",
    "\n",
    "#Display the result\n",
    "unique_terms = list(unique_terms)\n",
    "print(unique_terms)"
   ]
  },
  {
   "cell_type": "code",
   "execution_count": 12,
   "id": "1f3e2800",
   "metadata": {},
   "outputs": [
    {
     "data": {
      "text/plain": [
       "{'documents': [0, 0],\n",
       " 'document.': [0, 0],\n",
       " 'has': [0, 0],\n",
       " 'contains': [0, 0],\n",
       " 'be': [0, 0],\n",
       " 'the': [0, 0],\n",
       " 'Short': [0, 0],\n",
       " 'bit': [0, 0],\n",
       " 'second': [0, 0],\n",
       " 'It': [0, 0],\n",
       " 'a': [0, 0],\n",
       " 'concise.': [0, 0],\n",
       " 'short.': [0, 0],\n",
       " 'The': [0, 0],\n",
       " 'document': [0, 0],\n",
       " 'can': [0, 0],\n",
       " 'words.': [0, 0],\n",
       " 'This': [0, 0],\n",
       " 'some': [0, 0],\n",
       " 'is': [0, 0],\n",
       " 'different': [0, 0],\n",
       " 'third': [0, 0],\n",
       " 'and': [0, 0],\n",
       " 'longer': [0, 0],\n",
       " 'first': [0, 0]}"
      ]
     },
     "execution_count": 12,
     "metadata": {},
     "output_type": "execute_result"
    }
   ],
   "source": [
    "# create a matrix for the document by using the unique term\n",
    "doc_term_matrix = {}\n",
    "\n",
    "# your code here\n",
    "for key in unique_terms: \n",
    "    doc_term_matrix[key] = []\n",
    "    for doc in key_documents:\n",
    "        if key in datas[1]:\n",
    "            doc_term_matrix[key].append(1)\n",
    "        else: \n",
    "            doc_term_matrix[key].append(0)\n",
    "\n",
    "\n",
    "# display the result of the matrix\n",
    "doc_term_matrix"
   ]
  },
  {
   "cell_type": "code",
   "execution_count": 15,
   "id": "76d58719",
   "metadata": {},
   "outputs": [
    {
     "name": "stdout",
     "output_type": "stream",
     "text": [
      "Unique terms have been saved to unique_terms.csv\n"
     ]
    }
   ],
   "source": [
    "import csv\n",
    "\n",
    "# Convert unique_terms back to a list (if needed)\n",
    "unique_terms_list = list(unique_terms)\n",
    "\n",
    "# Define the file path where you want to save the unique terms\n",
    "file_path = 'unique_terms.csv'\n",
    "\n",
    "# Open the file in write mode and write the unique terms\n",
    "with open(file_path, 'w') as file:\n",
    "    for term in unique_terms_list:\n",
    "        file.write(term + '\\n')\n",
    "\n",
    "# Display a message indicating that the terms have been saved\n",
    "print(f'Unique terms have been saved to {file_path}')"
   ]
  },
  {
   "cell_type": "code",
   "execution_count": null,
   "id": "ffeeabe8",
   "metadata": {},
   "outputs": [],
   "source": []
  }
 ],
 "metadata": {
  "kernelspec": {
   "display_name": "Python 3 (ipykernel)",
   "language": "python",
   "name": "python3"
  },
  "language_info": {
   "codemirror_mode": {
    "name": "ipython",
    "version": 3
   },
   "file_extension": ".py",
   "mimetype": "text/x-python",
   "name": "python",
   "nbconvert_exporter": "python",
   "pygments_lexer": "ipython3",
   "version": "3.11.4"
  }
 },
 "nbformat": 4,
 "nbformat_minor": 5
}
