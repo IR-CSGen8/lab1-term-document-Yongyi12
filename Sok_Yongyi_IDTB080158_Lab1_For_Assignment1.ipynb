{
 "cells": [
  {
   "cell_type": "code",
   "execution_count": 52,
   "id": "f1cd6cb2",
   "metadata": {},
   "outputs": [],
   "source": [
    "# Define the documents as a dictionary where keys are document titles and values are document content\n",
    "documents = {\n",
    "    \"Article: Pandas Basics\": \"This article covers the basics of using Pandas in Python.\",\n",
    "    \"Tutorial: Data Visualization\": \"Learn about data visualization techniques with Python libraries.\",\n",
    "    \"Case Study: Sales Analysis\": \"Analyze sales data using Python for a real-world case study.\"\n",
    "}"
   ]
  },
  {
   "cell_type": "code",
   "execution_count": 53,
   "id": "c503deec",
   "metadata": {},
   "outputs": [
    {
     "name": "stdout",
     "output_type": "stream",
     "text": [
      "['Article: Pandas Basics', 'Tutorial: Data Visualization', 'Case Study: Sales Analysis']\n"
     ]
    }
   ],
   "source": [
    "# get the keys of the documents and store it in the list\n",
    "key_documents = list(documents.keys())\n",
    "\n",
    "# display the list of the key documents\n",
    "print(key_documents)"
   ]
  },
  {
   "cell_type": "code",
   "execution_count": 54,
   "id": "b6a429e8",
   "metadata": {},
   "outputs": [
    {
     "name": "stdout",
     "output_type": "stream",
     "text": [
      "['Article', 'Tutorial', 'Case Study']\n"
     ]
    }
   ],
   "source": [
    "# Extract the category from the key documents and store it in a list\n",
    "categories = [title.split(':')[0] for title in documents.keys()]\n",
    "\n",
    "# Display the list of categories\n",
    "print(categories)"
   ]
  },
  {
   "cell_type": "code",
   "execution_count": 55,
   "id": "a16eb3b9",
   "metadata": {},
   "outputs": [
    {
     "name": "stdout",
     "output_type": "stream",
     "text": [
      "['This article covers the basics of using Pandas in Python.', 'Learn about data visualization techniques with Python libraries.', 'Analyze sales data using Python for a real-world case study.']\n"
     ]
    }
   ],
   "source": [
    "# Extract the content values and put them in a list\n",
    "document_content_list = list(documents.values())\n",
    "\n",
    "# Display the list of document content\n",
    "print(document_content_list)"
   ]
  },
  {
   "cell_type": "code",
   "execution_count": 56,
   "id": "5d21e9f1",
   "metadata": {},
   "outputs": [
    {
     "name": "stdout",
     "output_type": "stream",
     "text": [
      "['using', 'Python', 'basics', 'visualization', 'Pandas', 'for', 'case', 'This', 'covers', 'sales', 'with', 'in', 'Python.', 'about', 'the', 'article', 'real-world', 'techniques', 'Analyze', 'Learn', 'a', 'of', 'data', 'libraries.', 'study.']\n"
     ]
    }
   ],
   "source": [
    "# Gather the set of all unique terms from the list content of document and diplay the result\n",
    "unique_terms = set()\n",
    "\n",
    "# Iterate through each document content to extract unique terms\n",
    "for content in document_content_list:\n",
    "    terms = content.split()\n",
    "    unique_terms.update(terms)\n",
    "\n",
    "#Display the result\n",
    "unique_terms = list(unique_terms)\n",
    "print(unique_terms)"
   ]
  },
  {
   "cell_type": "code",
   "execution_count": 57,
   "id": "7bb531dc",
   "metadata": {},
   "outputs": [
    {
     "data": {
      "text/plain": [
       "{'using': [1, 0, 1],\n",
       " 'Python': [1, 1, 1],\n",
       " 'basics': [1, 0, 0],\n",
       " 'visualization': [0, 1, 0],\n",
       " 'Pandas': [1, 0, 0],\n",
       " 'for': [0, 0, 1],\n",
       " 'case': [0, 0, 1],\n",
       " 'This': [1, 0, 0],\n",
       " 'covers': [1, 0, 0],\n",
       " 'sales': [0, 0, 1],\n",
       " 'with': [0, 1, 0],\n",
       " 'in': [1, 0, 1],\n",
       " 'Python.': [1, 0, 0],\n",
       " 'about': [0, 1, 0],\n",
       " 'the': [1, 0, 0],\n",
       " 'article': [1, 0, 0],\n",
       " 'real-world': [0, 0, 1],\n",
       " 'techniques': [0, 1, 0],\n",
       " 'Analyze': [0, 0, 1],\n",
       " 'Learn': [0, 1, 0],\n",
       " 'a': [1, 1, 1],\n",
       " 'of': [1, 0, 0],\n",
       " 'data': [0, 1, 1],\n",
       " 'libraries.': [0, 1, 0],\n",
       " 'study.': [0, 0, 1]}"
      ]
     },
     "execution_count": 57,
     "metadata": {},
     "output_type": "execute_result"
    }
   ],
   "source": [
    "# create a matrix for the document by using the unique term\n",
    "doc_term_matrix = {}\n",
    "\n",
    "# your code here\n",
    "for key in unique_terms: \n",
    "    doc_term_matrix[key] = []\n",
    "    for doc in key_documents:\n",
    "        if key in documents[doc]:\n",
    "            doc_term_matrix[key].append(1)\n",
    "        else: \n",
    "            doc_term_matrix[key].append(0)\n",
    "\n",
    "\n",
    "# display the result of the matrix\n",
    "doc_term_matrix\n",
    "\n"
   ]
  },
  {
   "cell_type": "code",
   "execution_count": 68,
   "id": "9857db45",
   "metadata": {},
   "outputs": [
    {
     "name": "stdout",
     "output_type": "stream",
     "text": [
      "==== Matrices Checking by each contents ====\n",
      "[1 0 0]\n",
      "[1 1 1]\n",
      "-------\n",
      "This the result after multiplication of matrices [1 0 0]\n"
     ]
    },
    {
     "data": {
      "text/plain": [
       "['This article covers the basics of using Pandas in Python.']"
      ]
     },
     "execution_count": 68,
     "metadata": {},
     "output_type": "execute_result"
    }
   ],
   "source": [
    "# import the numpy library if it doesn't work you need to install numpy\n",
    "import numpy as np\n",
    "\n",
    "docs_array = np.array(document_content_list, dtype='object')\n",
    "\n",
    "v1 = np.array(doc_term_matrix['the'])    \n",
    "v2 = np.array(doc_term_matrix['Python'])\n",
    "\n",
    "print('==== Matrices Checking by each contents ====')\n",
    "print(v1)\n",
    "print(v2)\n",
    "print('-------')\n",
    "\n",
    "# find the documents that have both terms from v1 and v2\n",
    "v3 = v1 & v2\n",
    "print('This the result after multiplication of matrices' , v3)\n",
    "\n",
    "# display the content document from the result\n",
    "\n",
    "[result for result in v3*docs_array if result]"
   ]
  },
  {
   "cell_type": "code",
   "execution_count": 69,
   "id": "436b4e81",
   "metadata": {},
   "outputs": [
    {
     "name": "stdout",
     "output_type": "stream",
     "text": [
      "==== Matrices Checking by each contents ====\n",
      "[0 1 1]\n",
      "[1 1 1]\n",
      "-------\n",
      "This the result after multiplication of matrices [1 1 1]\n"
     ]
    },
    {
     "data": {
      "text/plain": [
       "['This article covers the basics of using Pandas in Python.',\n",
       " 'Learn about data visualization techniques with Python libraries.',\n",
       " 'Analyze sales data using Python for a real-world case study.']"
      ]
     },
     "execution_count": 69,
     "metadata": {},
     "output_type": "execute_result"
    }
   ],
   "source": [
    "# find the document for those have at least one word\n",
    "import numpy as np\n",
    "\n",
    "docs_array = np.array(document_content_list, dtype='object')\n",
    "\n",
    "v1 = np.array(doc_term_matrix['data'])    \n",
    "v2 = np.array(doc_term_matrix['Python'])\n",
    "\n",
    "print('==== Matrices Checking by each contents ====')\n",
    "print(v1)\n",
    "print(v2)\n",
    "print('-------')\n",
    "\n",
    "# find the documents that have both terms from v1 and v2\n",
    "v3 = v1 | v2\n",
    "print('This the result after multiplication of matrices' , v3)\n",
    "\n",
    "# display the content document from the result\n",
    "#docs_array[v3]\n",
    "[result for result in v3*docs_array if result]"
   ]
  },
  {
   "cell_type": "code",
   "execution_count": null,
   "id": "bb1ce850",
   "metadata": {},
   "outputs": [],
   "source": []
  }
 ],
 "metadata": {
  "kernelspec": {
   "display_name": "Python 3 (ipykernel)",
   "language": "python",
   "name": "python3"
  },
  "language_info": {
   "codemirror_mode": {
    "name": "ipython",
    "version": 3
   },
   "file_extension": ".py",
   "mimetype": "text/x-python",
   "name": "python",
   "nbconvert_exporter": "python",
   "pygments_lexer": "ipython3",
   "version": "3.11.4"
  }
 },
 "nbformat": 4,
 "nbformat_minor": 5
}
